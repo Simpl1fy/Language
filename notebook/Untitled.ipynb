{
 "cells": [
  {
   "cell_type": "code",
   "execution_count": 6,
   "id": "701ae4e9-af95-4c8d-bec7-7f8a54650d44",
   "metadata": {},
   "outputs": [],
   "source": [
    "import pandas as pd\n",
    "import numpy as np\n",
    "from sklearn.model_selection import train_test_split\n",
    "from sklearn.base import BaseEstimator, TransformerMixin\n",
    "from sklearn.pipeline import Pipeline\n",
    "import re\n",
    "from sklearn.feature_extraction.text import CountVectorizer\n",
    "from sklearn.preprocessing import LabelEncoder"
   ]
  },
  {
   "cell_type": "code",
   "execution_count": 2,
   "id": "481b84f4-dd2f-48f0-aaee-367d6aa1385b",
   "metadata": {},
   "outputs": [
    {
     "data": {
      "text/html": [
       "<div>\n",
       "<style scoped>\n",
       "    .dataframe tbody tr th:only-of-type {\n",
       "        vertical-align: middle;\n",
       "    }\n",
       "\n",
       "    .dataframe tbody tr th {\n",
       "        vertical-align: top;\n",
       "    }\n",
       "\n",
       "    .dataframe thead th {\n",
       "        text-align: right;\n",
       "    }\n",
       "</style>\n",
       "<table border=\"1\" class=\"dataframe\">\n",
       "  <thead>\n",
       "    <tr style=\"text-align: right;\">\n",
       "      <th></th>\n",
       "      <th>Text</th>\n",
       "      <th>Language</th>\n",
       "    </tr>\n",
       "  </thead>\n",
       "  <tbody>\n",
       "    <tr>\n",
       "      <th>0</th>\n",
       "      <td>Nature, in the broadest sense, is the natural...</td>\n",
       "      <td>English</td>\n",
       "    </tr>\n",
       "    <tr>\n",
       "      <th>1</th>\n",
       "      <td>\"Nature\" can refer to the phenomena of the phy...</td>\n",
       "      <td>English</td>\n",
       "    </tr>\n",
       "    <tr>\n",
       "      <th>2</th>\n",
       "      <td>The study of nature is a large, if not the onl...</td>\n",
       "      <td>English</td>\n",
       "    </tr>\n",
       "    <tr>\n",
       "      <th>3</th>\n",
       "      <td>Although humans are part of nature, human acti...</td>\n",
       "      <td>English</td>\n",
       "    </tr>\n",
       "    <tr>\n",
       "      <th>4</th>\n",
       "      <td>[1] The word nature is borrowed from the Old F...</td>\n",
       "      <td>English</td>\n",
       "    </tr>\n",
       "  </tbody>\n",
       "</table>\n",
       "</div>"
      ],
      "text/plain": [
       "                                                Text Language\n",
       "0   Nature, in the broadest sense, is the natural...  English\n",
       "1  \"Nature\" can refer to the phenomena of the phy...  English\n",
       "2  The study of nature is a large, if not the onl...  English\n",
       "3  Although humans are part of nature, human acti...  English\n",
       "4  [1] The word nature is borrowed from the Old F...  English"
      ]
     },
     "execution_count": 2,
     "metadata": {},
     "output_type": "execute_result"
    }
   ],
   "source": [
    "data = pd.read_csv('data/Language Detection.csv')\n",
    "data.head()"
   ]
  },
  {
   "cell_type": "code",
   "execution_count": 11,
   "id": "90271227-6d9a-463c-9bf5-f0fc411c8e0d",
   "metadata": {},
   "outputs": [],
   "source": [
    "class DataTransformation:\n",
    "    def __init__(self):\n",
    "        pass\n",
    "    def get_data_transformation_object(self):\n",
    "        pipeline = Pipeline([\n",
    "            (\"remover\", Remove()),\n",
    "            (\"vectorizer\", Vectorizer())\n",
    "        ])\n",
    "        le = LabelEncoder()\n",
    "        return (pipeline, le)\n",
    "    def initiate_data_transformation(self, train_df, test_df):\n",
    "        target_column = 'Language'\n",
    "        input_train_df = train_df.drop([target_column], axis=1)\n",
    "        target_train_df = train_df[target_column]\n",
    "\n",
    "        input_test_df = test_df.drop([target_column], axis=1)\n",
    "        target_test_df = test_df[target_column]\n",
    "\n",
    "        pl, le = self.get_data_transformation_object()\n",
    "\n",
    "        input_train_arr = pl.fit_transform(input_train_df)\n",
    "        target_train_arr = np.array(le.fit_transform(target_train_df))\n",
    "\n",
    "        input_test_arr = pl.transform(input_test_df)\n",
    "        target_test_arr = np.array(le.transform(target_test_df))\n",
    "\n",
    "        print(input_train_arr.shape)\n",
    "        print(target_train_arr.shape)\n",
    "        print(input_test_arr.shape)\n",
    "        print(target_test_arr.shape)\n",
    "\n",
    "        # return (\n",
    "        #     input_train_arr,\n",
    "        #     target_train_arr,\n",
    "        #     input_test_arr,\n",
    "        #     target_test_arr\n",
    "        # )"
   ]
  },
  {
   "cell_type": "code",
   "execution_count": 10,
   "id": "1656da00-0632-4287-8ab2-2ea7a53e4e57",
   "metadata": {},
   "outputs": [],
   "source": [
    "train_df, test_df = train_test_split(data, test_size=0.2)"
   ]
  },
  {
   "cell_type": "code",
   "execution_count": 12,
   "id": "b70c91e0-7647-4a71-b769-d783f2973d33",
   "metadata": {},
   "outputs": [
    {
     "name": "stdout",
     "output_type": "stream",
     "text": [
      "(1, 1)\n",
      "(8269,)\n",
      "(1, 1)\n",
      "(2068,)\n"
     ]
    }
   ],
   "source": [
    "dt = DataTransformation()\n",
    "dt.initiate_data_transformation(train_df, test_df)"
   ]
  }
 ],
 "metadata": {
  "kernelspec": {
   "display_name": "Python 3 (ipykernel)",
   "language": "python",
   "name": "python3"
  },
  "language_info": {
   "codemirror_mode": {
    "name": "ipython",
    "version": 3
   },
   "file_extension": ".py",
   "mimetype": "text/x-python",
   "name": "python",
   "nbconvert_exporter": "python",
   "pygments_lexer": "ipython3",
   "version": "3.10.12"
  }
 },
 "nbformat": 4,
 "nbformat_minor": 5
}
